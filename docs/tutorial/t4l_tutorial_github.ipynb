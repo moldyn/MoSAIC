{
 "cells": [
  {
   "attachments": {},
   "cell_type": "markdown",
   "metadata": {},
   "source": [
    "# Example Tutorial for Extracting the Clusters for T4 Lysozyme"
   ]
  },
  {
   "attachments": {},
   "cell_type": "markdown",
   "metadata": {},
   "source": [
    "This tutorial explains how to extract clusters for T4 Lysozyme using MoSAIC. \n",
    "> **Correlation-Based Feature Selection to Identify Functional Dynamcis\n",
    "> in Proteins**  \n",
    "> G. Diez, D. Nagel, and G. Stock,\n",
    "> *J. Chem. Theory Comput.* **2022** 18 (8), 5079-5088,\n",
    "> [10.1021/acs.jctc.2c00337](https://pubs.acs.org/doi/10.1021/acs.jctc.2c00337)\n",
    "\n",
    "\n",
    "\n",
    "The assumption is that the necessary internal coordinates, \n",
    "such as contact distances, have already been calculated. \n",
    "\n",
    "A file with every 10000th frame of the 402 contact distances from \n",
    "> Identification and Validation of Reaction Coordinates Describing Protein \n",
    "> Functional Motion: Hierarchical Dynamics of T4 Lysozyme\n",
    "> M. Ernst, S. Wolf and G. Stock (*J. Chem. Theory Comput.* **2017** 13, 5076)\n",
    "\n",
    "is provided.\n",
    "Additionally, an index-file is provided that specifies the columns of the \n",
    "coordinate file. \n",
    "So, for example, the first line of the index-file contains \n",
    ">1  5\n",
    "\n",
    "which means that the first column in the coordinate file corresponds to the \n",
    "minimal distance between the first and fifth residue."
   ]
  },
  {
   "attachments": {},
   "cell_type": "markdown",
   "metadata": {},
   "source": [
    "The data is loaded using the **mosaic** package, and the correlation matrix is \n",
    "calculated using the **Similarity** class and the **correlation** metric. \n",
    "Once the correlation matrix has been computed, the next step is to cluster the \n",
    "data using the Leiden algorithm with the constant Potts model. \n"
   ]
  },
  {
   "attachments": {},
   "cell_type": "markdown",
   "metadata": {},
   "source": [
    "## Computing the Correlation"
   ]
  },
  {
   "cell_type": "code",
   "execution_count": 1,
   "metadata": {},
   "outputs": [],
   "source": [
    "import mosaic\n",
    "import numpy as np\n",
    "\n",
    "\n",
    "# Load the data\n",
    "internal_coords = np.loadtxt('./t4l_exampletraj_mindists2.dat')\n",
    "internal_coords_names = np.loadtxt(\n",
    "    './t4l_exampletraj_mindists_names.idx',\n",
    ").astype(int)\n",
    "\n",
    "# Calculate the correlation matrix\n",
    "sim = mosaic.Similarity(metric='correlation')\n",
    "sim.fit(internal_coords)\n",
    "correlation_matrix = sim.matrix_"
   ]
  },
  {
   "attachments": {},
   "cell_type": "markdown",
   "metadata": {},
   "source": [
    "## Clustering "
   ]
  },
  {
   "attachments": {},
   "cell_type": "markdown",
   "metadata": {},
   "source": [
    "In this example, a resolution parameter of gamma=0.5 is used. \n",
    "Depending on the size of the matrix and the value of the resolution parameter,\n",
    "the clustering might need some time (higher resolution parameters require more\n",
    "time).\n",
    "Therefore, a cutoff can be used for large matrices to mask all correlation \n",
    "entries below a certain threshold."
   ]
  },
  {
   "cell_type": "code",
   "execution_count": 2,
   "metadata": {},
   "outputs": [],
   "source": [
    "# Cluster the correlation matrix\n",
    "clustering = mosaic.Clustering(\n",
    "    mode='CPM',\n",
    "    weighted=True,\n",
    "    resolution_parameter=0.5,\n",
    ")\n",
    "clustering.fit(correlation_matrix);"
   ]
  },
  {
   "attachments": {},
   "cell_type": "markdown",
   "metadata": {},
   "source": [
    "Once the clustering process is completed, the next step is to visualize the \n",
    "matrix."
   ]
  },
  {
   "cell_type": "code",
   "execution_count": null,
   "metadata": {},
   "outputs": [],
   "source": [
    "%matplotlib inline\n",
    "import matplotlib.pyplot as plt\n",
    "\n",
    "\n",
    "fig, ax = plt.subplots()\n",
    "im = ax.imshow(clustering.matrix_)\n",
    "ax.set_xticks(clustering.ticks_)\n",
    "ax.set_yticks(clustering.ticks_)\n",
    "ax.set_xticklabels([])\n",
    "ax.set_yticklabels([])\n",
    "ax.set_xlabel('clusters')\n",
    "ax.set_ylabel('clusters')\n",
    "ax.grid(visible=False)\n",
    "plt.colorbar(im, label=r'$|\\rho|$')\n",
    "plt.show()"
   ]
  },
  {
   "attachments": {},
   "cell_type": "markdown",
   "metadata": {},
   "source": [
    "Sometimes it can be useful to sort the clusters by size before visualizing. \n",
    "This allows us to see which clusters are largest and play a key role in the \n",
    "process we want to study.\n",
    "To sort the clusters by size, we can first calculate the size of each cluster \n",
    "and sort them in descending order. \n",
    "We can then reorder the rows and columns of the matrix based on this sorted \n",
    "order. This way, the largest clusters will be in the upper left corner of the \n",
    "heatmap, while the smallest clusters will be in the lower right corner.\n",
    "Such a  reordering makes it easier to identify and interpret the larger, \n",
    "more meaningful clusters in the data."
   ]
  },
  {
   "cell_type": "code",
   "execution_count": null,
   "metadata": {},
   "outputs": [],
   "source": [
    "idxs = np.argsort(\n",
    "    [len(cluster) for cluster in clustering.clusters_],\n",
    ")[::-1]\n",
    "clusters_sorted = clustering.clusters_[idxs]\n",
    "clusters_sorted_flattened = np.concatenate(clustering.clusters_[idxs])\n",
    "\n",
    "# sort the matrix accordingly\n",
    "matrix_sorted = correlation_matrix[\n",
    "    np.ix_(clusters_sorted_flattened, clusters_sorted_flattened)\n",
    "]\n",
    "ticks = np.cumsum([len(cluster) for cluster in clustering.clusters_[idxs]])\n",
    "ticks = [0, *ticks[:-1]]  # ticks start with 0 "
   ]
  },
  {
   "cell_type": "code",
   "execution_count": null,
   "metadata": {},
   "outputs": [],
   "source": [
    "# Perform the same plot again, but with sorted clusters\n",
    "fig, ax = plt.subplots(figsize=(5, 5))\n",
    "im = ax.pcolormesh(\n",
    "    matrix_sorted,\n",
    "    snap=True,\n",
    "    vmin=0,\n",
    "    vmax=1,\n",
    ")\n",
    "ax.invert_yaxis()  # origin to the upper left\n",
    "ax.set_aspect('equal')  # 1:1 ratio\n",
    "ax.set_xticks(ticks[:4])  # we focus only on the first three clusters\n",
    "ax.set_yticks(ticks[:4])\n",
    "ax.set_xticklabels(np.arange(4)+1)\n",
    "ax.set_yticklabels(np.arange(4)+1)\n",
    "ax.set_xlabel('clusters')\n",
    "ax.set_ylabel('clusters')\n",
    "ax.grid(visible=True)\n",
    "plt.colorbar(im, label=r'$|\\rho|$')\n",
    "plt.show()"
   ]
  },
  {
   "attachments": {},
   "cell_type": "markdown",
   "metadata": {},
   "source": [
    "That looks good!\n",
    "\n",
    "Now we need to extract the coordinates of the residues belonging to a \n",
    "particular cluster, e.g., cluster 1, and visualize them as a 3D structure. \n",
    "To accomplish this, we will use the open source version of PyMOL, \n",
    "a powerful visualization tool that allows us to render and manipulate \n",
    "molecular structures (https://pymol.org/2/#opensource).\n",
    "\n",
    "To create a PyMOL script to achieve this, we first generate a string that \n",
    "contains all the information about the residues in this cluster. \n",
    "We can use the cluster assignments obtained earlier and the topology file of \n",
    "the simulated system to retrieve the atom names and coordinates of the residues\n",
    "in the cluster. Once we have this information, \n",
    "we can format it into a PyMOL script that selects and colors the residues in \n",
    "cluster 1.\n",
    "\n",
    "After generating the PyMOL script, we can run it using PyMOL's command-line \n",
    "interface to generate a 3D structure of the cluster. Finally, we will save the \n",
    "structure in a .png format.\n",
    "\n",
    "The PyMOL settings provided here are just an example and can be adjusted to \n",
    "suit the user's preferences."
   ]
  },
  {
   "cell_type": "code",
   "execution_count": null,
   "metadata": {},
   "outputs": [],
   "source": [
    "import pymol\n",
    "from IPython.display import Image\n",
    "pymol.cmd.feedback('disable', 'all', 'everything')  # suppress pymol output"
   ]
  },
  {
   "cell_type": "code",
   "execution_count": null,
   "metadata": {},
   "outputs": [],
   "source": [
    "# create structure plots for the first three MoSAIC clusters\n",
    "for cluster in range(3):\n",
    "    pymol_cmd = \"\"\"\n",
    "        reinitialize; load t4l_structure.pdb;\n",
    "        set cartoon_discrete_colors, on;\n",
    "        util.cbss(\"all\",\"silver\",\"silver\",\"white\",_self=cmd);\n",
    "        bg_color white;\n",
    "        set ray_trace_mode,  1;\n",
    "        set ray_texture, 5;\n",
    "        set ray_trace_fog, 0;\n",
    "        set antialias, 2;\n",
    "        set stick_radius, .2;\n",
    "        set sphere_scale, .3;\n",
    "        set sphere_scale, .2, elem H;\n",
    "        set stick_quality, 50;\n",
    "        set sphere_quality, 4;\n",
    "        set ambient, 0.1;\n",
    "        set shininess, 10;\n",
    "        set specular, 1;\n",
    "        set reflect, .5;\n",
    "        set dash_gap, 0;\n",
    "        set dash_color, red;\n",
    "        set dash_length, .05;\n",
    "        set dash_round_ends, 0;\n",
    "        set dash_radius, .2;\n",
    "        set depth_cue, 0;\n",
    "        set label_size, 0;\n",
    "        set_view (\\\n",
    "             0.155398622,    0.833652616,    0.529968441,\\\n",
    "             0.252840698,    0.485050529,   -0.837133050,\\\n",
    "            -0.954944849,    0.264088452,   -0.135405213,\\\n",
    "             0.000078902,   -0.000241295, -156.730316162,\\\n",
    "            19.574779510,   34.417434692,   46.308376312,\\\n",
    "           128.238204956,  185.230773926,  -20.000000000 );\n",
    "    \"\"\"\n",
    "    for num, coord in enumerate(clusters_sorted[cluster]):\n",
    "        c1, c2 = internal_coords_names[coord];\n",
    "        pymol_cmd += f'distance dist{num}, {c1}/CA, {c2}/CA ;\\n'\n",
    "        pymol_cmd += f'select CA{num}, {c1}/CA or {c2}/CA ;\\n'\n",
    "        pymol_cmd += f'show spheres, CA{num} ;\\n'\n",
    "    pymol_cmd += f'ray 800; 800; png t4l_cluster{cluster + 1}.png;'\n",
    "    pymol.cmd.do(pymol_cmd);"
   ]
  },
  {
   "cell_type": "code",
   "execution_count": null,
   "metadata": {},
   "outputs": [],
   "source": [
    "Image('./t4l_cluster1.png')"
   ]
  },
  {
   "cell_type": "code",
   "execution_count": null,
   "metadata": {},
   "outputs": [],
   "source": [
    "Image('./t4l_cluster2.png')"
   ]
  },
  {
   "cell_type": "code",
   "execution_count": null,
   "metadata": {},
   "outputs": [],
   "source": [
    "Image('./t4l_cluster3.png')"
   ]
  },
  {
   "cell_type": "markdown",
   "metadata": {},
   "source": []
  }
 ],
 "metadata": {
  "kernelspec": {
   "display_name": "base",
   "language": "python",
   "name": "python3"
  },
  "language_info": {
   "codemirror_mode": {
    "name": "ipython",
    "version": 3
   },
   "file_extension": ".py",
   "mimetype": "text/x-python",
   "name": "python",
   "nbconvert_exporter": "python",
   "pygments_lexer": "ipython3",
   "version": "3.8.16"
  },
  "orig_nbformat": 4
 },
 "nbformat": 4,
 "nbformat_minor": 2
}
